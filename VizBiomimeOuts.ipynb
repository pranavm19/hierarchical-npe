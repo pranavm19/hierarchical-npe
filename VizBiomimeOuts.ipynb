{
 "cells": [
  {
   "cell_type": "markdown",
   "metadata": {},
   "source": [
    "### Visualize the outputs of Biomime6 and Biomime7"
   ]
  },
  {
   "cell_type": "code",
   "execution_count": 2,
   "metadata": {},
   "outputs": [],
   "source": [
    "import torch\n",
    "from BioMime.utils.basics import update_config, load_model, load_generator\n",
    "from BioMime.models.generator import Generator\n",
    "\n",
    "import matplotlib.pyplot as plt\n",
    "import seaborn as sns\n",
    "\n",
    "from utils import plot_muap_simple\n",
    "\n",
    "import ipywidgets as widgets\n",
    "from ipywidgets import interact, interactive, fixed, interact_manual"
   ]
  },
  {
   "cell_type": "code",
   "execution_count": 3,
   "metadata": {},
   "outputs": [],
   "source": [
    "import numpy as np\n",
    "import csv"
   ]
  },
  {
   "cell_type": "code",
   "execution_count": 14,
   "metadata": {},
   "outputs": [],
   "source": [
    "# Load weights of Biomime 6 and 7\n",
    "bm6 = torch.load('biomime_weights/model_linear.pth', torch.device('cpu'))\n",
    "bm7 = torch.load('biomime_weights/epoch-8_checkpoint.pth', torch.device('cpu'))\n",
    "bm6_keys = list(bm6.keys())\n",
    "bm7_keys = list(bm7['generator'].keys())\n",
    "\n",
    "# Sort keys so that mapping is easier\n",
    "sortorder6 = np.argsort(bm6_keys)\n",
    "sortorder7 = np.argsort(bm7_keys)"
   ]
  },
  {
   "cell_type": "raw",
   "metadata": {},
   "source": [
    "# Ensuring that biomime keys are properly ordered*\n",
    "bm6_sizes = [str(bm6[k].shape) for k in bm6_keys]\n",
    "bm7_sizes = [str(bm7['generator'][k].shape) for k in bm7_keys]\n",
    "\n",
    "keys_unmapped = np.array([\n",
    "    np.array(bm6_keys)[sortorder6],\n",
    "    np.array(bm6_sizes)[sortorder6],\n",
    "    np.array(bm7_keys)[sortorder7],\n",
    "    np.array(bm7_sizes)[sortorder7],\n",
    "]).T\n",
    "\n",
    "with open('keys.csv', mode='w', newline='') as file:\n",
    "    csv_writer = csv.writer(file, quotechar='\"', quoting=csv.QUOTE_MINIMAL)\n",
    "    csv_writer.writerows(keys_unmapped)"
   ]
  },
  {
   "cell_type": "code",
   "execution_count": 15,
   "metadata": {},
   "outputs": [],
   "source": [
    "# From here, I reordered thekeys manually in the csv and saved it at\n",
    "# ../BioMime/ckp/keys_mapping_biomime6-7.csv\n",
    "with open('biomime_weights/keys_mapping_biomime6-7.csv', mode='r', newline='') as file:\n",
    "    csv_reader = csv.reader(file, quotechar='\"', quoting=csv.QUOTE_MINIMAL)\n",
    "    keys_mapping = np.array(list(csv_reader))"
   ]
  },
  {
   "cell_type": "code",
   "execution_count": 16,
   "metadata": {},
   "outputs": [],
   "source": [
    "# Now rename the bm7 keys according to bm6 convention\n",
    "bm7_keys_old = np.array(bm7_keys)[sortorder7]\n",
    "bm7_keys_new = list(keys_mapping[:, -2])\n",
    "old_state_dict = bm7['generator']\n",
    "new_state_dict = {}\n",
    "for i in range(len(bm7_keys_old)):\n",
    "    new_state_dict[bm7_keys_new[i]] = old_state_dict[bm7_keys_old[i]]"
   ]
  },
  {
   "cell_type": "code",
   "execution_count": 19,
   "metadata": {},
   "outputs": [
    {
     "data": {
      "text/plain": [
       "<All keys matched successfully>"
      ]
     },
     "execution_count": 19,
     "metadata": {},
     "output_type": "execute_result"
    }
   ],
   "source": [
    "# Simple generation of MUAPs\n",
    "config = update_config('biomime_weights/config.yaml')\n",
    "config['Model']['Generator']['num_conds'] = 7\n",
    "biomime7 = Generator(config.Model.Generator)\n",
    "biomime7.load_state_dict(new_state_dict)"
   ]
  },
  {
   "cell_type": "code",
   "execution_count": 22,
   "metadata": {},
   "outputs": [
    {
     "data": {
      "text/plain": [
       "<All keys matched successfully>"
      ]
     },
     "execution_count": 22,
     "metadata": {},
     "output_type": "execute_result"
    }
   ],
   "source": [
    "config = update_config('biomime_weights/config.yaml')\n",
    "biomime6 = Generator(config.Model.Generator)\n",
    "biomime6.load_state_dict(bm6)"
   ]
  },
  {
   "cell_type": "code",
   "execution_count": 24,
   "metadata": {
    "scrolled": false
   },
   "outputs": [
    {
     "data": {
      "application/vnd.jupyter.widget-view+json": {
       "model_id": "e32bcc4a44a0488989d343c28a0a587a",
       "version_major": 2,
       "version_minor": 0
      },
      "text/plain": [
       "interactive(children=(FloatSlider(value=0.75, description='fd', max=1.0, min=0.5, step=0.01), FloatSlider(valu…"
      ]
     },
     "metadata": {},
     "output_type": "display_data"
    },
    {
     "data": {
      "text/plain": [
       "<function __main__.generate_plot_muap(fd, d, a, iz, cv, fl)>"
      ]
     },
     "execution_count": 24,
     "metadata": {},
     "output_type": "execute_result"
    }
   ],
   "source": [
    "fdensity = widgets.FloatSlider(value = 0.75, min = 0.5, max = 1.0, step = 0.01)\n",
    "depth = widgets.FloatSlider(value = 0.75, min = 0.5, max = 1.0, step = 0.01)\n",
    "angle = widgets.FloatSlider(value = 0.75, min = 0.5, max = 1.0, step = 0.01)\n",
    "izone = widgets.FloatSlider(value = 0.75, min = 0.5, max = 1.0, step = 0.01)\n",
    "cvel = widgets.FloatSlider(value = 0.75, min = 0.5, max = 1.0, step = 0.01)\n",
    "flength = widgets.FloatSlider(value = 0.75, min = 0.5, max = 1.0, step = 0.01)\n",
    "# fat = widgets.FloatSlider(value = 0.75, min = 0.5, max = 1, step = 0.05)\n",
    "\n",
    "def generate_plot_muap(fd, d, a, iz, cv, fl):\n",
    "    # Generate MUAP given specified conditions\n",
    "    n_MU = 1\n",
    "    n_steps = 10\n",
    "\n",
    "    z = torch.rand(n_MU, config.Model.Generator.Latent) # (1, 16)\n",
    "    c = torch.tensor((fd, d, a, iz, cv, fl))[None, :]\n",
    "    sim_muaps = []\n",
    "\n",
    "    for _ in range(n_steps):\n",
    "        sim = biomime6.sample(n_MU, c.float(), c.device, z)\n",
    "        sim = sim.permute(1, 2, 0).detach().numpy()\n",
    "        sim_muaps.append(sim)\n",
    "\n",
    "    sim_muaps = np.array(sim_muaps)\n",
    "    mean_muap = np.mean(sim_muaps, axis=0)\n",
    "\n",
    "    print(f'Average std across steps and channels: {np.mean(np.std(sim_muaps, axis=0))}')\n",
    "    print(np.mean(np.mean(mean_muap.reshape((-1, 96)), axis=0)))\n",
    "    plot_muap_simple(mean_muap[:, ::2, :])\n",
    "    # plt.imshow(np.sqrt(np.mean(mean_muap**2, axis=2)))\n",
    "\n",
    "    return None\n",
    "\n",
    "interact_manual(generate_plot_muap, fd=fdensity, d=depth, a=angle, iz=izone, cv=cvel, fl=flength, f=fat)"
   ]
  },
  {
   "cell_type": "code",
   "execution_count": null,
   "metadata": {},
   "outputs": [],
   "source": [
    "# Very quickly do the following tomorrow, to make sure shit makes sense.\n",
    "# (1) Test 100 true samples, and see how close the predictions from both bm6 and bm7 are\n",
    "# (2) Make sure that the effect of Fat is just really amplitude flattening (or some frequency metrics)\n",
    "#     but nothing more crazy. (Go back to the features of MUAPs you were looking at a while ago.)\n",
    "# (4) Which epoch should I use?"
   ]
  }
 ],
 "metadata": {
  "kernelspec": {
   "display_name": "Python [conda env:hnpe]",
   "language": "python",
   "name": "conda-env-hnpe-py"
  },
  "language_info": {
   "codemirror_mode": {
    "name": "ipython",
    "version": 3
   },
   "file_extension": ".py",
   "mimetype": "text/x-python",
   "name": "python",
   "nbconvert_exporter": "python",
   "pygments_lexer": "ipython3",
   "version": "3.11.9"
  }
 },
 "nbformat": 4,
 "nbformat_minor": 2
}
