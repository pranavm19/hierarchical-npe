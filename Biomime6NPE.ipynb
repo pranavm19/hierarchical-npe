{
 "cells": [
  {
   "cell_type": "code",
   "execution_count": 1,
   "metadata": {},
   "outputs": [],
   "source": [
    "import torch\n",
    "from sbi import utils as utils\n",
    "from sbi import analysis as analysis\n",
    "from sbi.inference.base import infer"
   ]
  },
  {
   "cell_type": "code",
   "execution_count": 2,
   "metadata": {},
   "outputs": [],
   "source": [
    "%load_ext autoreload\n",
    "%autoreload 2"
   ]
  },
  {
   "cell_type": "raw",
   "metadata": {},
   "source": [
    "import BioMime.utils.basics as bm_basics\n",
    "import BioMime.models.generator as bm_gen\n",
    "\n",
    "device = torch.device(\"cuda:0\" if torch.cuda.is_available() else \"cpu\")\n",
    "config = bm_basics.update_config('../BioMime/BioMime/configs/config.yaml')\n",
    "biomime6 = bm_gen.Generator(config.Model.Generator)\n",
    "biomime6 = bm_basics.load_generator('biomime_weights/model_linear.pth', biomime6, 'cuda')\n",
    "biomime6 = biomime6.to(device)"
   ]
  },
  {
   "cell_type": "raw",
   "metadata": {},
   "source": [
    "import BioMime.utils.basics as bm_basics\n",
    "import BioMime.models.generator as bm_gen\n",
    "\n",
    "device = torch.device(\"cuda:0\" if torch.cuda.is_available() else \"cpu\")\n",
    "config = bm_basics.update_config('../BioMime/BioMime/configs/config.yaml')\n",
    "config['Model']['Generator']['num_conds'] = 7\n",
    "biomime7 = bm_gen.Generator(config.Model.Generator)\n",
    "biomime7 = bm_basics.load_generator('biomime_weights/biomime7_weights.pth', biomime7, 'cuda')\n",
    "biomime7 = biomime7.to(device)"
   ]
  },
  {
   "cell_type": "code",
   "execution_count": 3,
   "metadata": {},
   "outputs": [],
   "source": [
    "from utils import generate_muap\n",
    "\n",
    "import numpy as np\n",
    "import matplotlib.pyplot as plt\n",
    "import seaborn as sns"
   ]
  },
  {
   "cell_type": "raw",
   "metadata": {},
   "source": [
    "generator = biomime7"
   ]
  },
  {
   "cell_type": "raw",
   "metadata": {},
   "source": [
    "def simulator(pars):\n",
    "    if pars.ndim == 1:\n",
    "        pars = pars[None, :]\n",
    "\n",
    "    n_MU = pars.shape[0]\n",
    "    sim_muaps = []\n",
    "\n",
    "    for _ in range(10):\n",
    "        cond = pars.to(device)\n",
    "        sim = generator.sample(n_MU, cond.float(), cond.device)\n",
    "\n",
    "        sim = sim.to(\"cpu\")\n",
    "        if n_MU == 1:\n",
    "            sim = sim.permute(1, 2, 0).detach().numpy()\n",
    "        else:\n",
    "            sim = sim.permute(0, 2, 3, 1).detach().numpy()\n",
    "        sim_muaps.append(sim)\n",
    "\n",
    "    muap = np.array(sim_muaps).mean(0)\n",
    "    \n",
    "    return torch.from_numpy(muap.flatten())"
   ]
  },
  {
   "cell_type": "code",
   "execution_count": 4,
   "metadata": {},
   "outputs": [],
   "source": [
    "from simulators import simulator_biomime7"
   ]
  },
  {
   "cell_type": "code",
   "execution_count": 5,
   "metadata": {},
   "outputs": [],
   "source": [
    "num_dim = 7\n",
    "prior = utils.BoxUniform(low=0.5 * torch.ones(num_dim), high=torch.ones(num_dim))"
   ]
  },
  {
   "cell_type": "code",
   "execution_count": null,
   "metadata": {},
   "outputs": [
    {
     "data": {
      "application/vnd.jupyter.widget-view+json": {
       "model_id": "206442fb2273459d90477fba42b49f43",
       "version_major": 2,
       "version_minor": 0
      },
      "text/plain": [
       "Running 100000 simulations.:   0%|          | 0/100000 [00:00<?, ?it/s]"
      ]
     },
     "metadata": {},
     "output_type": "display_data"
    },
    {
     "name": "stderr",
     "output_type": "stream",
     "text": [
      "IOPub message rate exceeded.\n",
      "The notebook server will temporarily stop sending output\n",
      "to the client in order to avoid crashing it.\n",
      "To change this limit, set the config variable\n",
      "`--NotebookApp.iopub_msg_rate_limit`.\n",
      "\n",
      "Current values:\n",
      "NotebookApp.iopub_msg_rate_limit=1000.0 (msgs/sec)\n",
      "NotebookApp.rate_limit_window=3.0 (secs)\n",
      "\n",
      "IOPub message rate exceeded.\n",
      "The notebook server will temporarily stop sending output\n",
      "to the client in order to avoid crashing it.\n",
      "To change this limit, set the config variable\n",
      "`--NotebookApp.iopub_msg_rate_limit`.\n",
      "\n",
      "Current values:\n",
      "NotebookApp.iopub_msg_rate_limit=1000.0 (msgs/sec)\n",
      "NotebookApp.rate_limit_window=3.0 (secs)\n",
      "\n",
      "IOPub message rate exceeded.\n",
      "The notebook server will temporarily stop sending output\n",
      "to the client in order to avoid crashing it.\n",
      "To change this limit, set the config variable\n",
      "`--NotebookApp.iopub_msg_rate_limit`.\n",
      "\n",
      "Current values:\n",
      "NotebookApp.iopub_msg_rate_limit=1000.0 (msgs/sec)\n",
      "NotebookApp.rate_limit_window=3.0 (secs)\n",
      "\n",
      "IOPub message rate exceeded.\n",
      "The notebook server will temporarily stop sending output\n",
      "to the client in order to avoid crashing it.\n",
      "To change this limit, set the config variable\n",
      "`--NotebookApp.iopub_msg_rate_limit`.\n",
      "\n",
      "Current values:\n",
      "NotebookApp.iopub_msg_rate_limit=1000.0 (msgs/sec)\n",
      "NotebookApp.rate_limit_window=3.0 (secs)\n",
      "\n",
      "IOPub message rate exceeded.\n",
      "The notebook server will temporarily stop sending output\n",
      "to the client in order to avoid crashing it.\n",
      "To change this limit, set the config variable\n",
      "`--NotebookApp.iopub_msg_rate_limit`.\n",
      "\n",
      "Current values:\n",
      "NotebookApp.iopub_msg_rate_limit=1000.0 (msgs/sec)\n",
      "NotebookApp.rate_limit_window=3.0 (secs)\n",
      "\n"
     ]
    },
    {
     "name": "stdout",
     "output_type": "stream",
     "text": [
      " Training neural network. Epochs trained: 164"
     ]
    }
   ],
   "source": [
    "# Other methods are \"SNLE\" or \"SNRE\".\n",
    "posterior = infer(simulator_biomime7, prior, method=\"SNPE\", num_simulations=100000)"
   ]
  },
  {
   "cell_type": "code",
   "execution_count": null,
   "metadata": {},
   "outputs": [],
   "source": [
    "with open(\"biomim7_100k_easy.pkl\", \"wb\") as f:\n",
    "    pickle.dump(posterior, f)"
   ]
  },
  {
   "cell_type": "code",
   "execution_count": 9,
   "metadata": {},
   "outputs": [],
   "source": [
    "from scipy.stats import qmc\n",
    "\n",
    "# LHS sampling from biomime 7\n",
    "# Generate a large sample of parameters in 6d\n",
    "n = 1000\n",
    "\n",
    "np.random.seed(42)\n",
    "sampler = qmc.LatinHypercube(d=7)\n",
    "sample = sampler.random(n)\n",
    "sample = sample/2 + 0.5\n",
    "\n",
    "lhs_muaps = np.zeros((n, 10, 32, 96))\n",
    "for i in range(n):\n",
    "    lhs_muaps[i] = np.reshape(simulator_biomime7(torch.tensor(sample[i])), (10, 32, 96))\n",
    "\n",
    "# Sample a narrower space to get a better picture\n",
    "# Repeat for different regions of the space\n",
    "# sample = sample/8 + 0.75 # Centered around 0.75 +/- 0.125"
   ]
  },
  {
   "cell_type": "raw",
   "metadata": {},
   "source": [
    "import h5py\n",
    "with h5py.File('lhs1000_biomime7.h5', 'w') as f:\n",
    "    f.create_dataset('muaps', data=lhs_muaps)\n",
    "    f.create_dataset('params', data=sample)"
   ]
  },
  {
   "cell_type": "code",
   "execution_count": 16,
   "metadata": {},
   "outputs": [],
   "source": [
    "pars = [0.65, 0.65, 0.7, 0.85, 0.6, 0.85, 0.7]\n",
    "observation = simulator_biomime7(torch.tensor(pars))"
   ]
  },
  {
   "cell_type": "raw",
   "metadata": {},
   "source": [
    "observation_pars = torch.from_numpy([params[12], 0.6])\n",
    "observation = simulator(observation_pars)"
   ]
  },
  {
   "cell_type": "code",
   "execution_count": 17,
   "metadata": {},
   "outputs": [
    {
     "data": {
      "application/vnd.jupyter.widget-view+json": {
       "model_id": "e06f45170cf64f288cf977963d22c88c",
       "version_major": 2,
       "version_minor": 0
      },
      "text/plain": [
       "Drawing 1000 posterior samples:   0%|          | 0/1000 [00:00<?, ?it/s]"
      ]
     },
     "metadata": {},
     "output_type": "display_data"
    }
   ],
   "source": [
    "samples = posterior.sample((1000,), x=observation)\n",
    "log_probability = posterior.log_prob(samples, x=observation)"
   ]
  },
  {
   "cell_type": "code",
   "execution_count": 18,
   "metadata": {},
   "outputs": [
    {
     "data": {
      "image/png": "[encoded data removed]",
      "text/plain": [
       "<Figure size 600x600 with 49 Axes>"
      ]
     },
     "metadata": {},
     "output_type": "display_data"
    }
   ],
   "source": [
    "fig, ax = analysis.pairplot(\n",
    "    samples, \n",
    "    limits=[[0.5, 1] for _ in range(7)], \n",
    "    figsize=(6, 6),\n",
    "    points=torch.tensor(pars),\n",
    "    labels=('FD', 'D', 'A', 'IZ', 'CV', 'FL', 'Fat'),\n",
    ")"
   ]
  },
  {
   "cell_type": "code",
   "execution_count": null,
   "metadata": {},
   "outputs": [],
   "source": [
    "def get_credible_intervals(samples):\n",
    "    n_dims = samples.shape[-1]\n",
    "    interval = np.zeros((n_dims, 2))\n",
    "    for i in range(n_dims):\n",
    "        interval[i] = np.percentile(samples[:, i], q=[2.5, 97.5])\n",
    "        \n",
    "    return interval.T"
   ]
  },
  {
   "cell_type": "code",
   "execution_count": null,
   "metadata": {},
   "outputs": [],
   "source": [
    "maps = []\n",
    "cis = []\n",
    "for par in params:\n",
    "    observation_pars = torch.from_numpy(par)\n",
    "    observation = simulator(observation_pars)\n",
    "    samples = posterior.sample((1000,), x=observation, show_progress_bars=False)\n",
    "    log_probability = posterior.log_prob(samples, x=observation)\n",
    "    maps.append(samples[np.argmax(log_probability)])\n",
    "    cis.append(get_credible_intervals(samples))"
   ]
  },
  {
   "cell_type": "code",
   "execution_count": null,
   "metadata": {},
   "outputs": [],
   "source": [
    "maps = np.array(maps)\n",
    "cis = np.array(cis)"
   ]
  },
  {
   "cell_type": "code",
   "execution_count": null,
   "metadata": {},
   "outputs": [],
   "source": [
    "with h5py.File('./lhs1000_npe.h5', 'w') as f:\n",
    "    f.create_dataset('true_muaps', data=muaps)\n",
    "    f.create_dataset('true_params', data=params)\n",
    "    f.create_dataset('MAP_estimates', data=maps)\n",
    "    f.create_dataset('conf_intervals', data=cis)"
   ]
  },
  {
   "cell_type": "code",
   "execution_count": null,
   "metadata": {},
   "outputs": [],
   "source": [
    "fig, axes = plt.subplots(nrows=2, ncols=3, figsize=(9, 6))\n",
    "titles = ['FD', 'D', 'A', 'IZ', 'CV', 'FL']\n",
    "\n",
    "for i in range(6):\n",
    "    col, row = divmod(i, 2)\n",
    "    errors = np.abs(cis[:, :, i].T-maps[:, i])\n",
    "    axes[row, col].errorbar(params[:, i], maps[:, i], yerr=errors, fmt='o', linewidth=0.75, ms=2)\n",
    "    axes[row, col].set_ylim([0.5, 1])\n",
    "    axes[row, col].set_title(titles[i])\n",
    "\n",
    "plt.tight_layout()\n",
    "sns.despine()\n",
    "plt.show()"
   ]
  },
  {
   "cell_type": "markdown",
   "metadata": {},
   "source": [
    "### SNPE "
   ]
  },
  {
   "cell_type": "code",
   "execution_count": null,
   "metadata": {},
   "outputs": [],
   "source": [
    "from sbi.inference import SNPE, prepare_for_sbi, simulate_for_sbi\n",
    "from sbi.utils.get_nn_models import posterior_nn"
   ]
  },
  {
   "cell_type": "code",
   "execution_count": null,
   "metadata": {},
   "outputs": [],
   "source": [
    "# 2 rounds: first round simulates from the prior, second round simulates parameter set\n",
    "# that were sampled from the obtained posterior.\n",
    "num_rounds = 5\n",
    "\n",
    "# The specific observation we want to focus the inference on.\n",
    "true_par = torch.from_numpy(params[12])\n",
    "x_obs = simulator(true_par)\n",
    "prior = utils.BoxUniform(low=0.5 * torch.ones(num_dim), high=torch.ones(num_dim))\n",
    "\n",
    "posteriors = []\n",
    "inference = SNPE(prior=prior)\n",
    "proposal = prior\n",
    "\n",
    "for _ in range(num_rounds):\n",
    "    theta, x = simulate_for_sbi(\n",
    "        simulator, \n",
    "        proposal, \n",
    "        num_simulations=2000, \n",
    "        simulation_batch_size=1,\n",
    "    )\n",
    "\n",
    "    # In `SNLE` and `SNRE`, you should not pass the `proposal` to `.append_simulations()`\n",
    "    density_estimator = inference.append_simulations(\n",
    "        theta, x, proposal=proposal\n",
    "    ).train()\n",
    "    posterior = inference.build_posterior(density_estimator)\n",
    "    posteriors.append(posterior)\n",
    "    proposal = posterior.set_default_x(x_obs)"
   ]
  },
  {
   "cell_type": "code",
   "execution_count": null,
   "metadata": {},
   "outputs": [],
   "source": [
    "samples = posterior.sample((10000,), x=x_obs)\n",
    "log_probability = posterior.log_prob(samples, x=x_obs)\n",
    "fig, ax = analysis.pairplot(\n",
    "    samples, \n",
    "    limits=[[0.5, 1] for _ in range(6)], \n",
    "    figsize=(6, 6),\n",
    "    points=true_par,\n",
    "    labels=('FD', 'D', 'A', 'IZ', 'CV', 'FL'),\n",
    ")"
   ]
  },
  {
   "cell_type": "code",
   "execution_count": null,
   "metadata": {},
   "outputs": [],
   "source": []
  },
  {
   "cell_type": "code",
   "execution_count": null,
   "metadata": {},
   "outputs": [],
   "source": [
    "def run_snle(simulator, x_obs, proposal_prior, rounds=5, sim_budget=10000):\n",
    "    \n",
    "    return posterior"
   ]
  },
  {
   "cell_type": "markdown",
   "metadata": {},
   "source": [
    "### SMC-ABC"
   ]
  },
  {
   "cell_type": "code",
   "execution_count": null,
   "metadata": {},
   "outputs": [],
   "source": [
    "# Use existing SMC-ABC implementation instead of the pyABC impl.\n",
    "from sbi.inference import prepare_for_sbi, simulate_for_sbi, SMCABC\n",
    "\n",
    "simulator, prior = prepare_for_sbi(simulator, prior)"
   ]
  },
  {
   "cell_type": "code",
   "execution_count": null,
   "metadata": {},
   "outputs": [],
   "source": [
    "inference = SMCABC(simulator, prior, show_progress_bars=False)"
   ]
  },
  {
   "cell_type": "code",
   "execution_count": null,
   "metadata": {},
   "outputs": [],
   "source": [
    "observation = torch.zeros(3)"
   ]
  },
  {
   "cell_type": "code",
   "execution_count": null,
   "metadata": {},
   "outputs": [],
   "source": [
    "posterior, summary = inference(\n",
    "    x_o=observation,\n",
    "    num_particles=50,\n",
    "    num_initial_pop=100,\n",
    "    num_simulations=100000,\n",
    "    epsilon_decay=0.1,\n",
    "    kde=True,\n",
    "    return_summary=True,\n",
    ")"
   ]
  },
  {
   "cell_type": "code",
   "execution_count": null,
   "metadata": {},
   "outputs": [],
   "source": [
    "samples = posterior.sample((1000,))\n",
    "log_probability = posterior.log_prob(samples)\n",
    "_ = analysis.pairplot(samples, limits=[[-2, 2], [-2, 2], [-2, 2]], figsize=(6, 6))"
   ]
  },
  {
   "cell_type": "code",
   "execution_count": null,
   "metadata": {},
   "outputs": [],
   "source": []
  }
 ],
 "metadata": {
  "kernelspec": {
   "display_name": "Python [conda env:hnpe]",
   "language": "python",
   "name": "conda-env-hnpe-py"
  },
  "language_info": {
   "codemirror_mode": {
    "name": "ipython",
    "version": 3
   },
   "file_extension": ".py",
   "mimetype": "text/x-python",
   "name": "python",
   "nbconvert_exporter": "python",
   "pygments_lexer": "ipython3",
   "version": "3.11.9"
  }
 },
 "nbformat": 4,
 "nbformat_minor": 2
}
