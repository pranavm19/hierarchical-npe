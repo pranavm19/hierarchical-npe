{
 "cells": [
  {
   "cell_type": "code",
   "execution_count": 1,
   "metadata": {},
   "outputs": [],
   "source": [
    "import torch\n",
    "from sbi import utils as utils\n",
    "from sbi import analysis as analysis\n",
    "from sbi.inference.base import infer"
   ]
  },
  {
   "cell_type": "code",
   "execution_count": 2,
   "metadata": {},
   "outputs": [],
   "source": [
    "import BioMime.utils.basics as bm_basics\n",
    "import BioMime.models.generator as bm_gen\n",
    "\n",
    "device = torch.device(\"cuda:0\" if torch.cuda.is_available() else \"cpu\")\n",
    "config = bm_basics.update_config('../BioMime/BioMime/configs/config.yaml')\n",
    "generator = bm_gen.Generator(config.Model.Generator)\n",
    "generator = bm_basics.load_generator('../BioMime/ckp/model_linear.pth', generator, 'cuda')\n",
    "generator = generator.to(device)"
   ]
  },
  {
   "cell_type": "code",
   "execution_count": 3,
   "metadata": {},
   "outputs": [],
   "source": [
    "from utils import generate_muap\n",
    "\n",
    "import numpy as np\n",
    "import matplotlib.pyplot as plt\n",
    "import seaborn as sns"
   ]
  },
  {
   "cell_type": "code",
   "execution_count": 4,
   "metadata": {},
   "outputs": [],
   "source": [
    "def simulator(pars):\n",
    "    if pars.ndim == 1:\n",
    "        pars = pars[None, :]\n",
    "\n",
    "    n_MU = pars.shape[0]\n",
    "    sim_muaps = []\n",
    "\n",
    "    for _ in range(10):\n",
    "        cond = pars.to(device)\n",
    "        sim = generator.sample(n_MU, cond.float(), cond.device)\n",
    "\n",
    "        sim = sim.to(\"cpu\")\n",
    "        if n_MU == 1:\n",
    "            sim = sim.permute(1, 2, 0).detach().numpy()\n",
    "        else:\n",
    "            sim = sim.permute(0, 2, 3, 1).detach().numpy()\n",
    "        sim_muaps.append(sim)\n",
    "\n",
    "    muap = np.array(sim_muaps).mean(0)\n",
    "    \n",
    "    return torch.from_numpy(muap.flatten())"
   ]
  },
  {
   "cell_type": "code",
   "execution_count": 5,
   "metadata": {},
   "outputs": [],
   "source": [
    "num_dim = 6\n",
    "prior = utils.BoxUniform(low=0.5 * torch.ones(num_dim), high=torch.ones(num_dim))"
   ]
  },
  {
   "cell_type": "code",
   "execution_count": null,
   "metadata": {},
   "outputs": [
    {
     "data": {
      "application/vnd.jupyter.widget-view+json": {
       "model_id": "78ad03c2782c457a8537bdf76ba569e3",
       "version_major": 2,
       "version_minor": 0
      },
      "text/plain": [
       "Running 100000 simulations.:   0%|          | 0/100000 [00:00<?, ?it/s]"
      ]
     },
     "metadata": {},
     "output_type": "display_data"
    },
    {
     "name": "stdout",
     "output_type": "stream",
     "text": [
      " Training neural network. Epochs trained: 191"
     ]
    }
   ],
   "source": [
    "# Other methods are \"SNLE\" or \"SNRE\".\n",
    "posterior = infer(simulator, prior, method=\"SNPE\", num_simulations=100000)"
   ]
  },
  {
   "cell_type": "code",
   "execution_count": null,
   "metadata": {},
   "outputs": [],
   "source": [
    "# _ = inference.append_simulations(theta, x).train(**train_kwargs)"
   ]
  },
  {
   "cell_type": "code",
   "execution_count": null,
   "metadata": {},
   "outputs": [],
   "source": [
    "a"
   ]
  },
  {
   "cell_type": "code",
   "execution_count": null,
   "metadata": {},
   "outputs": [],
   "source": [
    "import h5py\n",
    "\n",
    "with h5py.File('./lhs1000_biomime.h5', 'r') as f:\n",
    "    muaps = f['muaps'][()]\n",
    "    params = f['params'][()]"
   ]
  },
  {
   "cell_type": "code",
   "execution_count": null,
   "metadata": {},
   "outputs": [],
   "source": [
    "observation_pars = torch.from_numpy(params[12])\n",
    "observation = simulator(observation_pars)"
   ]
  },
  {
   "cell_type": "code",
   "execution_count": null,
   "metadata": {},
   "outputs": [],
   "source": [
    "samples = posterior.sample((10000,), x=observation)\n",
    "log_probability = posterior.log_prob(samples, x=observation)\n",
    "fig, ax = analysis.pairplot(\n",
    "    samples, \n",
    "    limits=[[0.5, 1] for _ in range(6)], \n",
    "    figsize=(6, 6),\n",
    "    points=observation_pars,\n",
    "    labels=('FD', 'D', 'A', 'IZ', 'CV', 'FL'),\n",
    ")"
   ]
  },
  {
   "cell_type": "code",
   "execution_count": null,
   "metadata": {},
   "outputs": [],
   "source": [
    "def get_credible_intervals(samples):\n",
    "    n_dims = samples.shape[-1]\n",
    "    interval = np.zeros((n_dims, 2))\n",
    "    for i in range(n_dims):\n",
    "        interval[i] = np.percentile(samples[:, i], q=[2.5, 97.5])\n",
    "        \n",
    "    return interval.T"
   ]
  },
  {
   "cell_type": "code",
   "execution_count": null,
   "metadata": {},
   "outputs": [],
   "source": [
    "maps = []\n",
    "cis = []\n",
    "for par in params:\n",
    "    observation_pars = torch.from_numpy(par)\n",
    "    observation = simulator(observation_pars)\n",
    "    samples = posterior.sample((1000,), x=observation, show_progress_bars=False)\n",
    "    log_probability = posterior.log_prob(samples, x=observation)\n",
    "    maps.append(samples[np.argmax(log_probability)])\n",
    "    cis.append(get_credible_intervals(samples))"
   ]
  },
  {
   "cell_type": "code",
   "execution_count": null,
   "metadata": {},
   "outputs": [],
   "source": [
    "maps = np.array(maps)\n",
    "cis = np.array(cis)"
   ]
  },
  {
   "cell_type": "code",
   "execution_count": null,
   "metadata": {},
   "outputs": [],
   "source": [
    "with h5py.File('./lhs1000_npe.h5', 'w') as f:\n",
    "    f.create_dataset('true_muaps', data=muaps)\n",
    "    f.create_dataset('true_params', data=params)\n",
    "    f.create_dataset('MAP_estimates', data=maps)\n",
    "    f.create_dataset('conf_intervals', data=cis)"
   ]
  },
  {
   "cell_type": "code",
   "execution_count": null,
   "metadata": {},
   "outputs": [],
   "source": [
    "fig, axes = plt.subplots(nrows=2, ncols=3, figsize=(9, 6))\n",
    "titles = ['FD', 'D', 'A', 'IZ', 'CV', 'FL']\n",
    "\n",
    "for i in range(6):\n",
    "    col, row = divmod(i, 2)\n",
    "    errors = np.abs(cis[:, :, i].T-maps[:, i])\n",
    "    axes[row, col].errorbar(params[:, i], maps[:, i], yerr=errors, fmt='o', linewidth=0.75, ms=2)\n",
    "    axes[row, col].set_ylim([0.5, 1])\n",
    "    axes[row, col].set_title(titles[i])\n",
    "\n",
    "plt.tight_layout()\n",
    "sns.despine()\n",
    "plt.show()"
   ]
  },
  {
   "cell_type": "markdown",
   "metadata": {},
   "source": [
    "### SNPE "
   ]
  },
  {
   "cell_type": "code",
   "execution_count": null,
   "metadata": {},
   "outputs": [],
   "source": [
    "from sbi.inference import SNPE, prepare_for_sbi, simulate_for_sbi\n",
    "from sbi.utils.get_nn_models import posterior_nn"
   ]
  },
  {
   "cell_type": "code",
   "execution_count": null,
   "metadata": {},
   "outputs": [],
   "source": [
    "# 2 rounds: first round simulates from the prior, second round simulates parameter set\n",
    "# that were sampled from the obtained posterior.\n",
    "num_rounds = 5\n",
    "\n",
    "# The specific observation we want to focus the inference on.\n",
    "true_par = torch.from_numpy(params[12])\n",
    "x_obs = simulator(true_par)\n",
    "prior = utils.BoxUniform(low=0.5 * torch.ones(num_dim), high=torch.ones(num_dim))\n",
    "\n",
    "posteriors = []\n",
    "inference = SNPE(prior=prior)\n",
    "proposal = prior\n",
    "\n",
    "for _ in range(num_rounds):\n",
    "    theta, x = simulate_for_sbi(\n",
    "        simulator, \n",
    "        proposal, \n",
    "        num_simulations=2000, \n",
    "        simulation_batch_size=1,\n",
    "    )\n",
    "\n",
    "    # In `SNLE` and `SNRE`, you should not pass the `proposal` to `.append_simulations()`\n",
    "    density_estimator = inference.append_simulations(\n",
    "        theta, x, proposal=proposal\n",
    "    ).train()\n",
    "    posterior = inference.build_posterior(density_estimator)\n",
    "    posteriors.append(posterior)\n",
    "    proposal = posterior.set_default_x(x_obs)"
   ]
  },
  {
   "cell_type": "code",
   "execution_count": null,
   "metadata": {},
   "outputs": [],
   "source": [
    "samples = posterior.sample((10000,), x=x_obs)\n",
    "log_probability = posterior.log_prob(samples, x=x_obs)\n",
    "fig, ax = analysis.pairplot(\n",
    "    samples, \n",
    "    limits=[[0.5, 1] for _ in range(6)], \n",
    "    figsize=(6, 6),\n",
    "    points=true_par,\n",
    "    labels=('FD', 'D', 'A', 'IZ', 'CV', 'FL'),\n",
    ")"
   ]
  },
  {
   "cell_type": "code",
   "execution_count": null,
   "metadata": {},
   "outputs": [],
   "source": []
  },
  {
   "cell_type": "code",
   "execution_count": null,
   "metadata": {},
   "outputs": [],
   "source": [
    "def run_snle(simulator, x_obs, proposal_prior, rounds=5, sim_budget=10000):\n",
    "    \n",
    "    return posterior"
   ]
  },
  {
   "cell_type": "markdown",
   "metadata": {},
   "source": [
    "### SMC-ABC"
   ]
  },
  {
   "cell_type": "code",
   "execution_count": null,
   "metadata": {},
   "outputs": [],
   "source": [
    "# Use existing SMC-ABC implementation instead of the pyABC impl.\n",
    "from sbi.inference import prepare_for_sbi, simulate_for_sbi, SMCABC\n",
    "\n",
    "simulator, prior = prepare_for_sbi(simulator, prior)"
   ]
  },
  {
   "cell_type": "code",
   "execution_count": null,
   "metadata": {},
   "outputs": [],
   "source": [
    "inference = SMCABC(simulator, prior, show_progress_bars=False)"
   ]
  },
  {
   "cell_type": "code",
   "execution_count": null,
   "metadata": {},
   "outputs": [],
   "source": [
    "observation = torch.zeros(3)"
   ]
  },
  {
   "cell_type": "code",
   "execution_count": null,
   "metadata": {},
   "outputs": [],
   "source": [
    "posterior, summary = inference(\n",
    "    x_o=observation,\n",
    "    num_particles=50,\n",
    "    num_initial_pop=100,\n",
    "    num_simulations=100000,\n",
    "    epsilon_decay=0.1,\n",
    "    kde=True,\n",
    "    return_summary=True,\n",
    ")"
   ]
  },
  {
   "cell_type": "code",
   "execution_count": null,
   "metadata": {},
   "outputs": [],
   "source": [
    "samples = posterior.sample((1000,))\n",
    "log_probability = posterior.log_prob(samples)\n",
    "_ = analysis.pairplot(samples, limits=[[-2, 2], [-2, 2], [-2, 2]], figsize=(6, 6))"
   ]
  },
  {
   "cell_type": "code",
   "execution_count": null,
   "metadata": {},
   "outputs": [],
   "source": []
  }
 ],
 "metadata": {
  "kernelspec": {
   "display_name": "Python [conda env:muapinv_pt]",
   "language": "python",
   "name": "conda-env-muapinv_pt-py"
  },
  "language_info": {
   "codemirror_mode": {
    "name": "ipython",
    "version": 3
   },
   "file_extension": ".py",
   "mimetype": "text/x-python",
   "name": "python",
   "nbconvert_exporter": "python",
   "pygments_lexer": "ipython3",
   "version": "3.11.0"
  }
 },
 "nbformat": 4,
 "nbformat_minor": 2
}
